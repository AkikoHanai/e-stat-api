{
 "cells": [
  {
   "cell_type": "code",
   "execution_count": 1,
   "metadata": {
    "collapsed": true
   },
   "outputs": [],
   "source": [
    "import pandas as pd"
   ]
  },
  {
   "cell_type": "code",
   "execution_count": 2,
   "metadata": {
    "collapsed": true
   },
   "outputs": [],
   "source": [
    "df = pd.read_csv('download/all_stats_list.csv', dtype=str)"
   ]
  },
  {
   "cell_type": "code",
   "execution_count": 3,
   "metadata": {},
   "outputs": [
    {
     "name": "stdout",
     "output_type": "stream",
     "text": [
      "(115716, 30)\n"
     ]
    }
   ],
   "source": [
    "print(df.shape)"
   ]
  },
  {
   "cell_type": "code",
   "execution_count": 4,
   "metadata": {},
   "outputs": [
    {
     "name": "stdout",
     "output_type": "stream",
     "text": [
      "Index(['id', 'CYCLE', 'GOV_ORG_val', 'GOV_ORG_code', 'MAIN_CATEGORY_val',\n",
      "       'MAIN_CATEGORY_code', 'OPEN_DATE', 'OVERALL_TOTAL_NUMBER', 'SMALL_AREA',\n",
      "       'STATISTICS_NAME', 'STATISTICS_NAME_SPEC_TABULATION_CATEGORY',\n",
      "       'STATISTICS_NAME_SPEC_TABULATION_SUB_CATEGORY1',\n",
      "       'STATISTICS_NAME_SPEC_TABULATION_SUB_CATEGORY2',\n",
      "       'STATISTICS_NAME_SPEC_TABULATION_SUB_CATEGORY3',\n",
      "       'STATISTICS_NAME_SPEC_TABULATION_SUB_CATEGORY4',\n",
      "       'STATISTICS_NAME_SPEC_TABULATION_SUB_CATEGORY5', 'STAT_NAME_val',\n",
      "       'STAT_NAME_code', 'SUB_CATEGORY_val', 'SUB_CATEGORY_code',\n",
      "       'SURVEY_DATE', 'TITLE', 'TITLE_val', 'TITLE_no',\n",
      "       'TITLE_SPEC_TABLE_CATEGORY', 'TITLE_SPEC_TABLE_NAME',\n",
      "       'TITLE_SPEC_TABLE_SUB_CATEGORY1', 'TITLE_SPEC_TABLE_SUB_CATEGORY2',\n",
      "       'TITLE_SPEC_TABLE_SUB_CATEGORY3', 'UPDATED_DATE'],\n",
      "      dtype='object')\n"
     ]
    }
   ],
   "source": [
    "print(df.columns)"
   ]
  },
  {
   "cell_type": "code",
   "execution_count": 5,
   "metadata": {},
   "outputs": [
    {
     "name": "stdout",
     "output_type": "stream",
     "text": [
      "38738\n"
     ]
    }
   ],
   "source": [
    "print(len(df[df['GOV_ORG_val'] == '総務省']))"
   ]
  },
  {
   "cell_type": "code",
   "execution_count": 6,
   "metadata": {},
   "outputs": [
    {
     "name": "stdout",
     "output_type": "stream",
     "text": [
      "38738\n"
     ]
    }
   ],
   "source": [
    "print(len(df.query('GOV_ORG_val == \"総務省\"')))"
   ]
  },
  {
   "cell_type": "code",
   "execution_count": 7,
   "metadata": {},
   "outputs": [
    {
     "name": "stdout",
     "output_type": "stream",
     "text": [
      "273\n"
     ]
    }
   ],
   "source": [
    "print(len(df[df['SURVEY_DATE'].str.startswith('2017')]))"
   ]
  },
  {
   "cell_type": "code",
   "execution_count": 8,
   "metadata": {},
   "outputs": [
    {
     "name": "stdout",
     "output_type": "stream",
     "text": [
      "273\n"
     ]
    }
   ],
   "source": [
    "print(len(df.query('SURVEY_DATE.str.startswith(\"2017\")', engine='python')))"
   ]
  },
  {
   "cell_type": "code",
   "execution_count": 9,
   "metadata": {},
   "outputs": [
    {
     "name": "stdout",
     "output_type": "stream",
     "text": [
      "3643\n"
     ]
    }
   ],
   "source": [
    "print(len(df[df['TITLE_val'].str.contains('所得', na=False)]))"
   ]
  },
  {
   "cell_type": "code",
   "execution_count": 10,
   "metadata": {},
   "outputs": [
    {
     "name": "stdout",
     "output_type": "stream",
     "text": [
      "       GOV_ORG_val GOV_ORG_code\n",
      "0              内閣府        00100\n",
      "1591           警察庁        00130\n",
      "1603           総務省        00200\n",
      "40341          法務省        00250\n",
      "40423          財務省        00350\n",
      "40445          国税庁        00351\n",
      "40501        文部科学省        00400\n",
      "51856        厚生労働省        00450\n",
      "65005        農林水産省        00500\n",
      "93920        経済産業省        00550\n",
      "111137    資源エネルギー庁        00551\n",
      "111252       国土交通省        00600\n"
     ]
    }
   ],
   "source": [
    "print(df[['GOV_ORG_val', 'GOV_ORG_code']].drop_duplicates().sort_values(by='GOV_ORG_code'))"
   ]
  },
  {
   "cell_type": "code",
   "execution_count": 11,
   "metadata": {
    "collapsed": true
   },
   "outputs": [],
   "source": [
    "df_id = df.set_index('id')"
   ]
  },
  {
   "cell_type": "code",
   "execution_count": 12,
   "metadata": {},
   "outputs": [
    {
     "name": "stdout",
     "output_type": "stream",
     "text": [
      "年齢（各歳），男女別人口及び人口性比－総人口，日本人人口\n"
     ]
    }
   ],
   "source": [
    "print(df_id.loc['0003215840', 'TITLE_val'])"
   ]
  },
  {
   "cell_type": "code",
   "execution_count": 13,
   "metadata": {},
   "outputs": [
    {
     "name": "stdout",
     "output_type": "stream",
     "text": [
      "CYCLE                                                                       -\n",
      "GOV_ORG_val                                                               総務省\n",
      "GOV_ORG_code                                                            00200\n",
      "MAIN_CATEGORY_val                                                       人口・世帯\n",
      "MAIN_CATEGORY_code                                                         02\n",
      "OPEN_DATE                                                          2018-04-13\n",
      "OVERALL_TOTAL_NUMBER                                                      816\n",
      "SMALL_AREA                                                                  0\n",
      "STATISTICS_NAME                                         人口推計 平成29年10月1日現在人口推計\n",
      "STATISTICS_NAME_SPEC_TABULATION_CATEGORY                                 人口推計\n",
      "STATISTICS_NAME_SPEC_TABULATION_SUB_CATEGORY1                平成29年10月1日現在人口推計\n",
      "STATISTICS_NAME_SPEC_TABULATION_SUB_CATEGORY2                             NaN\n",
      "STATISTICS_NAME_SPEC_TABULATION_SUB_CATEGORY3                             NaN\n",
      "STATISTICS_NAME_SPEC_TABULATION_SUB_CATEGORY4                             NaN\n",
      "STATISTICS_NAME_SPEC_TABULATION_SUB_CATEGORY5                             NaN\n",
      "STAT_NAME_val                                                            人口推計\n",
      "STAT_NAME_code                                                       00200524\n",
      "SUB_CATEGORY_val                                                           人口\n",
      "SUB_CATEGORY_code                                                          01\n",
      "SURVEY_DATE                                                            201710\n",
      "TITLE                                                                     NaN\n",
      "TITLE_val                                        年齢（各歳），男女別人口及び人口性比－総人口，日本人人口\n",
      "TITLE_no                                                                  001\n",
      "TITLE_SPEC_TABLE_CATEGORY                                                 NaN\n",
      "TITLE_SPEC_TABLE_NAME                            年齢（各歳），男女別人口及び人口性比－総人口，日本人人口\n",
      "TITLE_SPEC_TABLE_SUB_CATEGORY1                                            NaN\n",
      "TITLE_SPEC_TABLE_SUB_CATEGORY2                                            NaN\n",
      "TITLE_SPEC_TABLE_SUB_CATEGORY3                                            NaN\n",
      "UPDATED_DATE                                                       2018-04-14\n",
      "Name: 0003215840, dtype: object\n"
     ]
    }
   ],
   "source": [
    "print(df_id.loc['0003215840'])"
   ]
  },
  {
   "cell_type": "code",
   "execution_count": 14,
   "metadata": {
    "collapsed": true
   },
   "outputs": [],
   "source": [
    "df_population_2017 = df[(df['STAT_NAME_val'] == '人口推計')\n",
    "                        & (df['SURVEY_DATE'].str.startswith('2017'))]"
   ]
  },
  {
   "cell_type": "code",
   "execution_count": 15,
   "metadata": {
    "collapsed": true
   },
   "outputs": [],
   "source": [
    "# df_population_2017 = df.query('STAT_NAME_val == \"人口推計\" & SURVEY_DATE.str.startswith(\"2017\")', \n",
    "#                               engine='python')"
   ]
  },
  {
   "cell_type": "code",
   "execution_count": 16,
   "metadata": {},
   "outputs": [
    {
     "name": "stdout",
     "output_type": "stream",
     "text": [
      "21\n"
     ]
    }
   ],
   "source": [
    "print(len(df_population_2017))"
   ]
  },
  {
   "cell_type": "code",
   "execution_count": 17,
   "metadata": {},
   "outputs": [
    {
     "name": "stdout",
     "output_type": "stream",
     "text": [
      "               id                        TITLE_val\n",
      "20806  0003215840     年齢（各歳），男女別人口及び人口性比－総人口，日本人人口\n",
      "20807  0003215841       年齢（５歳階級），男女，月別人口－総人口，日本人人口\n",
      "20808  0003215842           年齢（５歳階級），男女別人口及び割合－総人口\n",
      "20809  0003215843       都道府県，男女別人口及び人口性比－総人口，日本人人口\n",
      "20810  0003215844             都道府県，男女別人口－総人口，日本人人口\n",
      "20811  0003215845                   都道府県別人口の割合－総人口\n",
      "20812  0003215846                   都道府県別人口増減率－総人口\n",
      "20813  0003215847                   都道府県別自然増減率－総人口\n",
      "20814  0003215848                   都道府県別社会増減率－総人口\n",
      "20815  0003215849    都道府県，年齢（5歳階級），男女別人口－総人口，日本人人口\n",
      "20816  0003215850     都道府県，年齢（3区分），男女別人口－総人口，日本人人口\n",
      "20817  0003215851  都道府県，年齢（3区分），男女別人口の割合－総人口，日本人人口\n",
      "20818  0003215852               都道府県，男女別年齢構造指数－総人口\n",
      "20819  0003215863    参考表　男女別人口の計算表－総人口，日本人人口，外国人人口\n",
      "20820  0003215864   参考表　年齢（各歳），男女別人口の計算表－総人口，日本人人口\n",
      "20821  0003215865     参考表　年齢（５歳階級），男女別死亡者数－日本人，外国人\n",
      "20822  0003215866    参考表　年齢（５歳階級），男女別出入国者数－日本人，外国人\n",
      "20823  0003215867     参考表　都道府県，男女別人口の計算表－総人口，日本人人口\n",
      "20824  0003215868   参考表　都道府県，男女別出生児数及び死亡者数－日本人，外国人\n",
      "20825  0003215869   参考表　都道府県，男女別都道府県間転出入者数－日本人，外国人\n",
      "20826  0003215870        参考表　都道府県，男女別出入国者数－日本人，外国人\n"
     ]
    }
   ],
   "source": [
    "print(df_population_2017[['id', 'TITLE_val']])"
   ]
  },
  {
   "cell_type": "code",
   "execution_count": 18,
   "metadata": {
    "collapsed": true
   },
   "outputs": [],
   "source": [
    "ids = df_population_2017['id'].values"
   ]
  },
  {
   "cell_type": "code",
   "execution_count": 19,
   "metadata": {},
   "outputs": [
    {
     "name": "stdout",
     "output_type": "stream",
     "text": [
      "['0003215840' '0003215841' '0003215842' '0003215843' '0003215844'\n",
      " '0003215845' '0003215846' '0003215847' '0003215848' '0003215849'\n",
      " '0003215850' '0003215851' '0003215852' '0003215863' '0003215864'\n",
      " '0003215865' '0003215866' '0003215867' '0003215868' '0003215869'\n",
      " '0003215870']\n"
     ]
    }
   ],
   "source": [
    "print(ids)"
   ]
  },
  {
   "cell_type": "code",
   "execution_count": 20,
   "metadata": {},
   "outputs": [
    {
     "name": "stdout",
     "output_type": "stream",
     "text": [
      "<class 'numpy.ndarray'>\n"
     ]
    }
   ],
   "source": [
    "print(type(ids))"
   ]
  }
 ],
 "metadata": {
  "kernelspec": {
   "display_name": "Python 3",
   "language": "python",
   "name": "python3"
  },
  "language_info": {
   "codemirror_mode": {
    "name": "ipython",
    "version": 3
   },
   "file_extension": ".py",
   "mimetype": "text/x-python",
   "name": "python",
   "nbconvert_exporter": "python",
   "pygments_lexer": "ipython3",
   "version": "3.6.5"
  }
 },
 "nbformat": 4,
 "nbformat_minor": 2
}

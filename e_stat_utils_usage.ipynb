{
 "cells": [
  {
   "cell_type": "code",
   "execution_count": 1,
   "metadata": {
    "collapsed": true
   },
   "outputs": [],
   "source": [
    "import os\n",
    "import json\n",
    "import pandas as pd\n",
    "import e_stat_utils"
   ]
  },
  {
   "cell_type": "code",
   "execution_count": 2,
   "metadata": {
    "collapsed": true
   },
   "outputs": [],
   "source": [
    "dir_path = 'download'"
   ]
  },
  {
   "cell_type": "code",
   "execution_count": 3,
   "metadata": {
    "collapsed": true
   },
   "outputs": [],
   "source": [
    "with open('setting/app_id.json') as f:\n",
    "    p_id = json.load(f)"
   ]
  },
  {
   "cell_type": "code",
   "execution_count": 4,
   "metadata": {
    "collapsed": true
   },
   "outputs": [],
   "source": [
    "with open('setting/get_stats_list_sample.json') as f:\n",
    "    p_list = json.load(f)"
   ]
  },
  {
   "cell_type": "code",
   "execution_count": 5,
   "metadata": {
    "collapsed": true
   },
   "outputs": [],
   "source": [
    "p_list.update(p_id)\n",
    "path = os.path.join(dir_path, 'stats_list_{}_{}.csv'.format(p_list['statsCode'], p_list[\"surveyYears\"]))"
   ]
  },
  {
   "cell_type": "code",
   "execution_count": 6,
   "metadata": {
    "collapsed": true
   },
   "outputs": [],
   "source": [
    "e_stat_utils.save_list_csv(p_list, path)"
   ]
  },
  {
   "cell_type": "code",
   "execution_count": 7,
   "metadata": {
    "collapsed": true
   },
   "outputs": [],
   "source": [
    "with open('setting/get_stats_data_sample.json') as f:\n",
    "    p_data = json.load(f)"
   ]
  },
  {
   "cell_type": "code",
   "execution_count": 8,
   "metadata": {
    "collapsed": true
   },
   "outputs": [],
   "source": [
    "p_data.update(p_id)"
   ]
  },
  {
   "cell_type": "code",
   "execution_count": 9,
   "metadata": {},
   "outputs": [
    {
     "name": "stdout",
     "output_type": "stream",
     "text": [
      "download 0003215840 to download/0003215840.csv\n",
      "skip 0003215840 (download/0003215840.csv already exists)\n",
      "download 0003215840 to download/0003215840.csv\n",
      "download 0003215841 to download/0003215841.csv\n",
      "download 0003215841 to download/header_false.csv\n",
      "download 0003215841 to download/header_true.csv\n"
     ]
    }
   ],
   "source": [
    "e_stat_utils.save_data_csv(p_data, dir_path=dir_path)\n",
    "e_stat_utils.save_data_csv(p_data, dir_path=dir_path)\n",
    "e_stat_utils.save_data_csv(p_data, dir_path=dir_path, skip=False)\n",
    "e_stat_utils.save_data_csv(p_data, '0003215841', dir_path=dir_path)\n",
    "e_stat_utils.save_data_csv(p_data, dir_path=dir_path, filename='header_false')\n",
    "e_stat_utils.save_data_csv(p_data, dir_path=dir_path, filename='header_true', section_header=True)"
   ]
  },
  {
   "cell_type": "code",
   "execution_count": 10,
   "metadata": {
    "collapsed": true
   },
   "outputs": [],
   "source": [
    "ids = ['0003215842', '0003215843', '0003215844']"
   ]
  },
  {
   "cell_type": "code",
   "execution_count": 11,
   "metadata": {},
   "outputs": [
    {
     "name": "stdout",
     "output_type": "stream",
     "text": [
      "download 0003215842 to download/0003215842.csv\n",
      "download 0003215843 to download/0003215843.csv\n",
      "download 0003215844 to download/0003215844.csv\n"
     ]
    }
   ],
   "source": [
    "e_stat_utils.save_data_csv_multi(p_id, ids, dir_path)"
   ]
  },
  {
   "cell_type": "code",
   "execution_count": 12,
   "metadata": {
    "collapsed": true
   },
   "outputs": [],
   "source": [
    "prefixes = ['0', '1', '2']\n",
    "suffixes = ['xxx', 'yyy', 'zzz']"
   ]
  },
  {
   "cell_type": "code",
   "execution_count": 13,
   "metadata": {},
   "outputs": [
    {
     "name": "stdout",
     "output_type": "stream",
     "text": [
      "download 0003215842 to download/0_0003215842_xxx.csv\n",
      "download 0003215843 to download/1_0003215843_yyy.csv\n",
      "download 0003215844 to download/2_0003215844_zzz.csv\n"
     ]
    }
   ],
   "source": [
    "e_stat_utils.save_data_csv_multi(p_id, ids, dir_path, [prefixes, ids, suffixes])"
   ]
  },
  {
   "cell_type": "code",
   "execution_count": 14,
   "metadata": {
    "collapsed": true
   },
   "outputs": [],
   "source": [
    "df = pd.read_csv('download/all_stats_list.csv', dtype=str)"
   ]
  },
  {
   "cell_type": "code",
   "execution_count": 15,
   "metadata": {
    "collapsed": true
   },
   "outputs": [],
   "source": [
    "df_target = df[(df['STAT_NAME_val'] == '人口推計')\n",
    "               & (df['SURVEY_DATE'].str.startswith('2017'))\n",
    "               & (df['TITLE_val'].str.contains('出入国'))]"
   ]
  },
  {
   "cell_type": "code",
   "execution_count": 16,
   "metadata": {},
   "outputs": [
    {
     "name": "stdout",
     "output_type": "stream",
     "text": [
      "download 0003215866 to download/0003215866.csv\n",
      "download 0003215870 to download/0003215870.csv\n"
     ]
    }
   ],
   "source": [
    "e_stat_utils.save_data_csv_multi(p_id, df_target['id'].values, dir_path)"
   ]
  },
  {
   "cell_type": "code",
   "execution_count": 17,
   "metadata": {},
   "outputs": [
    {
     "name": "stdout",
     "output_type": "stream",
     "text": [
      "download 0003215866 to download/00200_0003215866_参考表　年齢（５歳階級），男女別出入国者数－日本人，外国人.csv\n",
      "download 0003215870 to download/00200_0003215870_参考表　都道府県，男女別出入国者数－日本人，外国人.csv\n"
     ]
    }
   ],
   "source": [
    "e_stat_utils.save_data_csv_multi(p_id, df_target['id'].values, dir_path,\n",
    "                                 [df_target['GOV_ORG_code'].values,\n",
    "                                  df_target['id'].values,\n",
    "                                  df_target['TITLE_val'].values])"
   ]
  },
  {
   "cell_type": "code",
   "execution_count": 18,
   "metadata": {},
   "outputs": [
    {
     "name": "stdout",
     "output_type": "stream",
     "text": [
      "download 0003215840 to download/xxx_0003215840_201710_人口推計.csv\n",
      "download 0003215841 to download/xxx_0003215841_201710_人口推計.csv\n",
      "download 0003215842 to download/xxx_0003215842_201710_人口推計.csv\n",
      "download 0003215843 to download/xxx_0003215843_201710_人口推計.csv\n",
      "download 0003215844 to download/xxx_0003215844_201710_人口推計.csv\n",
      "download 0003215845 to download/xxx_0003215845_201710_人口推計.csv\n",
      "download 0003215846 to download/xxx_0003215846_201710_人口推計.csv\n",
      "download 0003215847 to download/xxx_0003215847_201710_人口推計.csv\n",
      "download 0003215848 to download/xxx_0003215848_201710_人口推計.csv\n",
      "download 0003215849 to download/xxx_0003215849_201710_人口推計.csv\n",
      "download 0003215850 to download/xxx_0003215850_201710_人口推計.csv\n",
      "download 0003215851 to download/xxx_0003215851_201710_人口推計.csv\n",
      "download 0003215852 to download/xxx_0003215852_201710_人口推計.csv\n",
      "download 0003215863 to download/xxx_0003215863_201710_人口推計.csv\n",
      "download 0003215864 to download/xxx_0003215864_201710_人口推計.csv\n",
      "download 0003215865 to download/xxx_0003215865_201710_人口推計.csv\n",
      "download 0003215866 to download/xxx_0003215866_201710_人口推計.csv\n",
      "download 0003215867 to download/xxx_0003215867_201710_人口推計.csv\n",
      "download 0003215868 to download/xxx_0003215868_201710_人口推計.csv\n",
      "download 0003215869 to download/xxx_0003215869_201710_人口推計.csv\n",
      "download 0003215870 to download/xxx_0003215870_201710_人口推計.csv\n"
     ]
    }
   ],
   "source": [
    "e_stat_utils.save_data_csv_multi_direct(p_list, p_data, p_id, dir_path,\n",
    "                                        ['xxx', '@id', 'SURVEY_DATE', ['STAT_NAME', '$']])"
   ]
  }
 ],
 "metadata": {
  "kernelspec": {
   "display_name": "Python 3",
   "language": "python",
   "name": "python3"
  },
  "language_info": {
   "codemirror_mode": {
    "name": "ipython",
    "version": 3
   },
   "file_extension": ".py",
   "mimetype": "text/x-python",
   "name": "python",
   "nbconvert_exporter": "python",
   "pygments_lexer": "ipython3",
   "version": "3.6.5"
  }
 },
 "nbformat": 4,
 "nbformat_minor": 2
}
